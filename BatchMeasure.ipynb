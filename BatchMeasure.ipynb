{
 "cells": [
  {
   "cell_type": "code",
   "execution_count": 34,
   "id": "satisfactory-overall",
   "metadata": {},
   "outputs": [],
   "source": [
    "import glob\n",
    "import re\n",
    "import cv2\n",
    "import skimage.exposure\n",
    "import pandas as pd"
   ]
  },
  {
   "cell_type": "code",
   "execution_count": 17,
   "id": "intense-webmaster",
   "metadata": {},
   "outputs": [
    {
     "name": "stdout",
     "output_type": "stream",
     "text": [
      "['./African_Bush_Elephant.jpg', './blur.jpg', './jack-russell-blurred.jpg', './stop-taking-blurry-pictures.jpg']\n"
     ]
    }
   ],
   "source": [
    "location = \".\"\n",
    "\n",
    "files = sorted([f for f in glob.glob(location+\"/**\", recursive = True) if re.search(r'(.*)\\.(jpg|jpeg)$', f)])   \n",
    "print(files)"
   ]
  },
  {
   "cell_type": "code",
   "execution_count": 31,
   "id": "shared-rugby",
   "metadata": {},
   "outputs": [],
   "source": [
    "def blur_contrast_brightness_measure(imagePath):\n",
    "    image = cv2.imread(imagePath)\n",
    "    blur_measure = cv2.Laplacian(image, cv2.CV_64F).var()\n",
    "    \n",
    "    low_contrast = False\n",
    "    threshold = 0\n",
    "    while not low_contrast:\n",
    "        threshold = round(threshold + 0.025, 3)\n",
    "        low_contrast = skimage.exposure.is_low_contrast(image, fraction_threshold=threshold)\n",
    "    \n",
    "    hsv = cv2.cvtColor(image, cv2.COLOR_BGR2HSV)\n",
    "    \n",
    "    return [round(blur_measure, 3), threshold, round(hsv[...,2].mean(),3)]"
   ]
  },
  {
   "cell_type": "code",
   "execution_count": 32,
   "id": "electric-dream",
   "metadata": {},
   "outputs": [
    {
     "data": {
      "text/plain": [
       "[1100.174, 0.45, 169.472]"
      ]
     },
     "execution_count": 32,
     "metadata": {},
     "output_type": "execute_result"
    }
   ],
   "source": [
    "blur_contrast_brightness_measure(files[0])"
   ]
  },
  {
   "cell_type": "code",
   "execution_count": 59,
   "id": "enormous-graduate",
   "metadata": {},
   "outputs": [
    {
     "name": "stdout",
     "output_type": "stream",
     "text": [
      "[1100.174, 0.45, 169.472]\n",
      "[98.222, 0.475, 191.638]\n",
      "[6.469, 0.425, 114.688]\n",
      "[71.21, 0.45, 155.782]\n"
     ]
    }
   ],
   "source": [
    "df = pd.DataFrame(columns = ['File_name', 'Blur_Measure', 'Contrast_Measure', 'Brightness_Measure']) \n",
    "for i in range(0, len(files)):\n",
    "    filec = files[i]\n",
    "    measure = blur_contrast_brightness_measure(filec)\n",
    "    print(measure)\n",
    "    df = df.append(pd.Series([filec]+measure, index=df.columns), ignore_index = True)"
   ]
  },
  {
   "cell_type": "code",
   "execution_count": 60,
   "id": "brazilian-savage",
   "metadata": {},
   "outputs": [
    {
     "data": {
      "text/html": [
       "<div>\n",
       "<style scoped>\n",
       "    .dataframe tbody tr th:only-of-type {\n",
       "        vertical-align: middle;\n",
       "    }\n",
       "\n",
       "    .dataframe tbody tr th {\n",
       "        vertical-align: top;\n",
       "    }\n",
       "\n",
       "    .dataframe thead th {\n",
       "        text-align: right;\n",
       "    }\n",
       "</style>\n",
       "<table border=\"1\" class=\"dataframe\">\n",
       "  <thead>\n",
       "    <tr style=\"text-align: right;\">\n",
       "      <th></th>\n",
       "      <th>File_name</th>\n",
       "      <th>Blur_Measure</th>\n",
       "      <th>Contrast_Measure</th>\n",
       "      <th>Brightness_Measure</th>\n",
       "    </tr>\n",
       "  </thead>\n",
       "  <tbody>\n",
       "    <tr>\n",
       "      <th>0</th>\n",
       "      <td>./African_Bush_Elephant.jpg</td>\n",
       "      <td>1100.174</td>\n",
       "      <td>0.450</td>\n",
       "      <td>169.472</td>\n",
       "    </tr>\n",
       "    <tr>\n",
       "      <th>1</th>\n",
       "      <td>./blur.jpg</td>\n",
       "      <td>98.222</td>\n",
       "      <td>0.475</td>\n",
       "      <td>191.638</td>\n",
       "    </tr>\n",
       "    <tr>\n",
       "      <th>2</th>\n",
       "      <td>./jack-russell-blurred.jpg</td>\n",
       "      <td>6.469</td>\n",
       "      <td>0.425</td>\n",
       "      <td>114.688</td>\n",
       "    </tr>\n",
       "    <tr>\n",
       "      <th>3</th>\n",
       "      <td>./stop-taking-blurry-pictures.jpg</td>\n",
       "      <td>71.210</td>\n",
       "      <td>0.450</td>\n",
       "      <td>155.782</td>\n",
       "    </tr>\n",
       "  </tbody>\n",
       "</table>\n",
       "</div>"
      ],
      "text/plain": [
       "                           File_name  Blur_Measure  Contrast_Measure  \\\n",
       "0        ./African_Bush_Elephant.jpg      1100.174             0.450   \n",
       "1                         ./blur.jpg        98.222             0.475   \n",
       "2         ./jack-russell-blurred.jpg         6.469             0.425   \n",
       "3  ./stop-taking-blurry-pictures.jpg        71.210             0.450   \n",
       "\n",
       "   Brightness_Measure  \n",
       "0             169.472  \n",
       "1             191.638  \n",
       "2             114.688  \n",
       "3             155.782  "
      ]
     },
     "execution_count": 60,
     "metadata": {},
     "output_type": "execute_result"
    }
   ],
   "source": [
    "df"
   ]
  },
  {
   "cell_type": "code",
   "execution_count": 61,
   "id": "activated-sending",
   "metadata": {},
   "outputs": [],
   "source": [
    "df.to_csv(\"image_stats.csv\", index = False)"
   ]
  },
  {
   "cell_type": "code",
   "execution_count": null,
   "id": "gentle-sacrifice",
   "metadata": {},
   "outputs": [],
   "source": []
  }
 ],
 "metadata": {
  "kernelspec": {
   "display_name": "Python 3",
   "language": "python",
   "name": "python3"
  },
  "language_info": {
   "codemirror_mode": {
    "name": "ipython",
    "version": 3
   },
   "file_extension": ".py",
   "mimetype": "text/x-python",
   "name": "python",
   "nbconvert_exporter": "python",
   "pygments_lexer": "ipython3",
   "version": "3.7.9"
  }
 },
 "nbformat": 4,
 "nbformat_minor": 5
}
